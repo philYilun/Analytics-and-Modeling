{
 "cells": [
  {
   "cell_type": "markdown",
   "metadata": {
    "collapsed": true
   },
   "source": [
    "# Analysis Summary\n",
    "*Fraud is a special customer behavior that shares certain patterns. Understand how the customer behavior / demongraphic information correlated with their fraud activity is the goal of this analysis. *"
   ]
  },
  {
   "cell_type": "markdown",
   "metadata": {},
   "source": [
    "<div class=\"alert alert-block alert-info\">\n",
    "<b>1. Patterns discovered in the analysis are:</b><br>\n",
    "- (1) more than half of fraud customer purchase immediately after they sign  <br>\n",
    "- (2) if the device the customer used has been used before, then there is a high risk the first transaction of the customer is fraud <br>\n",
    "\n",
    "<b>2. Model Selection :</b><br>\n",
    "- (1) Use ROC-AUC score to evaluate the classification model accuracy  <br>\n",
    "- (2) Consider Recall more than Precision as here it is more important to predict true positive but we care less about false posive  <br>\n",
    "- (3) Use random forest variable importance to identify the contributory factor to fraud. As rf average out the <br>\n",
    "- (4) To tune model, using randomized cv and grid search. <br><br>\n",
    "\n",
    "<b>3. Real-Time fraud detection application :</b><br>\n",
    "__Decide the threshhold of probability of fraud score to take further consideration before put the model inapplication__ <br>\n",
    "(1) understand the cost for the case that a. fraud was not detected b. a normal transaction was tagged as fraud.   <br>\n",
    "(2) conduct a cost-benefit analysis to maximize profit, i.e. if situation a cost 1 dollar and situation b cost 10 dollar, then the tolerance of b could be 10x as the tolerance of a.    <br>\n",
    "(3) considering other criterias and draw a practical cut i.e. for default =1 , (1-recall)=0.1(1-precision)   <br>\n",
    "__Draw 2 threshold__ *(please refer to the green box below for further detail)* <br>\n",
    "(1) a threshold with a good confidence that the instance is fraud. <br>\n",
    "(2) a threshold that the instance is problematic or suspicious, need future scruitiny  <br>\n",
    "__Life testing__  <br>\n",
    "(1) Feed the life data to the model and check the probability score of fraud.  <br>\n",
    "(2) If the score is higher than the stricter threshold, tag it as fraud. If the score is between a and b, then put it into more scruitiny check <br>\n",
    "(3) Use out of sample data to test the existing model in a regular basis, to make sure the model is still robust to current situation <br>\n",
    "(4) Use new information to train data to make the model adapt to new information <br>\n",
    "\n",
    "</div>\n"
   ]
  },
  {
   "cell_type": "markdown",
   "metadata": {},
   "source": [
    "# Analysis Plan\n",
    "###  1. EDA -- understand the input variable \n",
    "  * -- understand unit of analysis\n",
    "  * -- understand data type and single var distribution\n",
    "  * -- understand data correlation, esp to the target variable\n",
    "\n",
    "###  2.a Data Cleaning \n",
    "  * -- missing value inpute (a. whether missing value is correlated with fraud, b. how missing value be estimated)\n",
    "  * -- outlier check\n",
    "  * -- understand data type and single var distribution (a.bar chart for categorical var and histograph for continuous var)\n",
    "  * -- understand data correlation, esp to the target variable\n",
    "  * -- scale (ratio scale for numerical var and nominal scale for object to categories)\n",
    "\n",
    "### 2.b Feature Engineering \n",
    "  * -- with industry experience and based on common sense, create var\n",
    "  * -- observe correlation and model output to modify variable\n",
    "  * -- understand data correlation, esp to the target variable\n",
    "  * -- scale (ratio scale for numerical var and nominal scale for object to categories)\n",
    "\n",
    "### 3. Model Building & Model Evaluation \n",
    "  * -- using tree and rf to check variable importance\n",
    "  * -- Use gradient boost as there might be couple models that suitable for different part of the instances\n",
    "  * -- Check metrics ROC-AUC\n",
    "  * -- Hyper Parameter Tuning Cross Validation and Randomized v\n",
    "  * -- Real case analysis : model interpretation\n",
    "  * -- Use demo\n"
   ]
  },
  {
   "cell_type": "code",
   "execution_count": 3,
   "metadata": {
    "collapsed": true
   },
   "outputs": [],
   "source": [
    "import pandas as pd\n",
    "import numpy as np\n",
    "import matplotlib.pyplot as plt\n",
    "% matplotlib inline"
   ]
  },
  {
   "cell_type": "code",
   "execution_count": 47,
   "metadata": {
    "collapsed": false
   },
   "outputs": [],
   "source": [
    "fraud_df=pd.read_csv(\"Fraud_Data.csv\")\n",
    "IP_to_country_dict=pd.read_csv(\"IpAddress_to_Country.csv\")"
   ]
  },
  {
   "cell_type": "markdown",
   "metadata": {},
   "source": [
    "###  1. EDA -- understand the input variable \n",
    "   - understand unit of analysis"
   ]
  },
  {
   "cell_type": "code",
   "execution_count": 48,
   "metadata": {
    "collapsed": false
   },
   "outputs": [
    {
     "data": {
      "text/html": [
       "<div>\n",
       "<style scoped>\n",
       "    .dataframe tbody tr th:only-of-type {\n",
       "        vertical-align: middle;\n",
       "    }\n",
       "\n",
       "    .dataframe tbody tr th {\n",
       "        vertical-align: top;\n",
       "    }\n",
       "\n",
       "    .dataframe thead th {\n",
       "        text-align: right;\n",
       "    }\n",
       "</style>\n",
       "<table border=\"1\" class=\"dataframe\">\n",
       "  <thead>\n",
       "    <tr style=\"text-align: right;\">\n",
       "      <th></th>\n",
       "      <th>type</th>\n",
       "      <th>nunique</th>\n",
       "    </tr>\n",
       "  </thead>\n",
       "  <tbody>\n",
       "    <tr>\n",
       "      <th>user_id</th>\n",
       "      <td>int64</td>\n",
       "      <td>151112</td>\n",
       "    </tr>\n",
       "    <tr>\n",
       "      <th>signup_time</th>\n",
       "      <td>object</td>\n",
       "      <td>151112</td>\n",
       "    </tr>\n",
       "    <tr>\n",
       "      <th>purchase_time</th>\n",
       "      <td>object</td>\n",
       "      <td>150679</td>\n",
       "    </tr>\n",
       "    <tr>\n",
       "      <th>purchase_value</th>\n",
       "      <td>int64</td>\n",
       "      <td>122</td>\n",
       "    </tr>\n",
       "    <tr>\n",
       "      <th>device_id</th>\n",
       "      <td>object</td>\n",
       "      <td>137956</td>\n",
       "    </tr>\n",
       "    <tr>\n",
       "      <th>source</th>\n",
       "      <td>object</td>\n",
       "      <td>3</td>\n",
       "    </tr>\n",
       "    <tr>\n",
       "      <th>browser</th>\n",
       "      <td>object</td>\n",
       "      <td>5</td>\n",
       "    </tr>\n",
       "    <tr>\n",
       "      <th>sex</th>\n",
       "      <td>object</td>\n",
       "      <td>2</td>\n",
       "    </tr>\n",
       "    <tr>\n",
       "      <th>age</th>\n",
       "      <td>int64</td>\n",
       "      <td>58</td>\n",
       "    </tr>\n",
       "    <tr>\n",
       "      <th>ip_address</th>\n",
       "      <td>float64</td>\n",
       "      <td>143512</td>\n",
       "    </tr>\n",
       "    <tr>\n",
       "      <th>class</th>\n",
       "      <td>int64</td>\n",
       "      <td>2</td>\n",
       "    </tr>\n",
       "  </tbody>\n",
       "</table>\n",
       "</div>"
      ],
      "text/plain": [
       "                   type nunique\n",
       "user_id           int64  151112\n",
       "signup_time      object  151112\n",
       "purchase_time    object  150679\n",
       "purchase_value    int64     122\n",
       "device_id        object  137956\n",
       "source           object       3\n",
       "browser          object       5\n",
       "sex              object       2\n",
       "age               int64      58\n",
       "ip_address      float64  143512\n",
       "class             int64       2"
      ]
     },
     "execution_count": 48,
     "metadata": {},
     "output_type": "execute_result"
    }
   ],
   "source": [
    "pd.DataFrame(np.vstack([fraud_df.dtypes,fraud_df.nunique()]).T,index=fraud_df.columns,columns=['type','nunique'])"
   ]
  },
  {
   "cell_type": "markdown",
   "metadata": {},
   "source": [
    "<div class=\"alert alert-block alert-info\">\n",
    "<b>Findings:</b><br>*- one unit is one user, and each user have a unique signup time :use user_id as unique identifier and unit of analysis  <br>\n",
    "*- device_id and ip_address is mostly identical for all users, but dupes exists -- for device, check why customers share same device, and whether it is relavent with fraud\n",
    "</div>"
   ]
  },
  {
   "cell_type": "markdown",
   "metadata": {},
   "source": [
    "###  2. Data Cleaning & Feature Engineer\n",
    " *  __(Task 1) IP_adress and country mapping__"
   ]
  },
  {
   "cell_type": "code",
   "execution_count": 49,
   "metadata": {
    "collapsed": false
   },
   "outputs": [
    {
     "name": "stdout",
     "output_type": "stream",
     "text": [
      "<class 'pandas.core.frame.DataFrame'>\n",
      "RangeIndex: 138846 entries, 0 to 138845\n",
      "Data columns (total 3 columns):\n",
      "lower_bound_ip_address    138846 non-null float64\n",
      "upper_bound_ip_address    138846 non-null int64\n",
      "country                   138846 non-null object\n",
      "dtypes: float64(1), int64(1), object(1)\n",
      "memory usage: 3.2+ MB\n"
     ]
    }
   ],
   "source": [
    "IP_to_country_dict.info()"
   ]
  },
  {
   "cell_type": "code",
   "execution_count": 50,
   "metadata": {
    "collapsed": false
   },
   "outputs": [
    {
     "data": {
      "text/plain": [
       "country\n",
       "United States         46868\n",
       "Canada                 6989\n",
       "Russian Federation     6739\n",
       "Australia              6316\n",
       "Germany                5999\n",
       "Name: lower_bound_ip_address, dtype: int64"
      ]
     },
     "execution_count": 50,
     "metadata": {},
     "output_type": "execute_result"
    }
   ],
   "source": [
    "IP_to_country_dict.groupby(['country'])['lower_bound_ip_address'].count().sort_values(ascending=False).head()"
   ]
  },
  {
   "cell_type": "markdown",
   "metadata": {},
   "source": [
    "<div class=\"alert alert-block alert-info\">\n",
    "<b>Mapping IP Address to Country - Findings:</b><br>\n",
    "-There are overall 235 countries but some country have very few customers. In later cleaning up step, combining those small countries might be needed to reduce the dimension<br>\n",
    "-by checking the upper bound and lower bound range, compared with the IP_address range of the dictionary, we find the IP_to_country_dict ip address range does __not cover all__ IP address in the raw data. <br><br>\n",
    "<b>the following logic will take care of this, and will also take care of anywhere the range is not covered</b><br>\n",
    "</div>"
   ]
  },
  {
   "cell_type": "code",
   "execution_count": 51,
   "metadata": {
    "collapsed": false
   },
   "outputs": [
    {
     "data": {
      "text/html": [
       "<div>\n",
       "<style scoped>\n",
       "    .dataframe tbody tr th:only-of-type {\n",
       "        vertical-align: middle;\n",
       "    }\n",
       "\n",
       "    .dataframe tbody tr th {\n",
       "        vertical-align: top;\n",
       "    }\n",
       "\n",
       "    .dataframe thead th {\n",
       "        text-align: right;\n",
       "    }\n",
       "</style>\n",
       "<table border=\"1\" class=\"dataframe\">\n",
       "  <thead>\n",
       "    <tr style=\"text-align: right;\">\n",
       "      <th></th>\n",
       "      <th>lower_bound_ip_address</th>\n",
       "      <th>upper_bound_ip_address</th>\n",
       "    </tr>\n",
       "  </thead>\n",
       "  <tbody>\n",
       "    <tr>\n",
       "      <th>count</th>\n",
       "      <td>138,846.00</td>\n",
       "      <td>138,846.00</td>\n",
       "    </tr>\n",
       "    <tr>\n",
       "      <th>mean</th>\n",
       "      <td>2,724,531,562.52</td>\n",
       "      <td>2,724,557,062.22</td>\n",
       "    </tr>\n",
       "    <tr>\n",
       "      <th>std</th>\n",
       "      <td>897,521,519.71</td>\n",
       "      <td>897,497,915.46</td>\n",
       "    </tr>\n",
       "    <tr>\n",
       "      <th>min</th>\n",
       "      <td>16,777,216.00</td>\n",
       "      <td>16,777,471.00</td>\n",
       "    </tr>\n",
       "    <tr>\n",
       "      <th>25%</th>\n",
       "      <td>1,919,930,368.00</td>\n",
       "      <td>1,920,008,191.00</td>\n",
       "    </tr>\n",
       "    <tr>\n",
       "      <th>50%</th>\n",
       "      <td>3,230,887,296.00</td>\n",
       "      <td>3,230,887,551.00</td>\n",
       "    </tr>\n",
       "    <tr>\n",
       "      <th>75%</th>\n",
       "      <td>3,350,465,280.00</td>\n",
       "      <td>3,350,465,919.00</td>\n",
       "    </tr>\n",
       "    <tr>\n",
       "      <th>max</th>\n",
       "      <td>3,758,096,128.00</td>\n",
       "      <td>3,758,096,383.00</td>\n",
       "    </tr>\n",
       "  </tbody>\n",
       "</table>\n",
       "</div>"
      ],
      "text/plain": [
       "       lower_bound_ip_address  upper_bound_ip_address\n",
       "count              138,846.00              138,846.00\n",
       "mean         2,724,531,562.52        2,724,557,062.22\n",
       "std            897,521,519.71          897,497,915.46\n",
       "min             16,777,216.00           16,777,471.00\n",
       "25%          1,919,930,368.00        1,920,008,191.00\n",
       "50%          3,230,887,296.00        3,230,887,551.00\n",
       "75%          3,350,465,280.00        3,350,465,919.00\n",
       "max          3,758,096,128.00        3,758,096,383.00"
      ]
     },
     "execution_count": 51,
     "metadata": {},
     "output_type": "execute_result"
    }
   ],
   "source": [
    "pd.options.display.float_format = '{:,.2f}'.format\n",
    "IP_to_country_dict.describe()"
   ]
  },
  {
   "cell_type": "code",
   "execution_count": 52,
   "metadata": {
    "collapsed": false
   },
   "outputs": [
    {
     "data": {
      "text/plain": [
       "(52093.4968949854, 4294850499.6788397)"
      ]
     },
     "execution_count": 52,
     "metadata": {},
     "output_type": "execute_result"
    }
   ],
   "source": [
    "pd.options.display.float_format = '{:,.2f}'.format\n",
    "fraud_df['ip_address'].describe().min(),fraud_df['ip_address'].describe().max()"
   ]
  },
  {
   "cell_type": "code",
   "execution_count": 53,
   "metadata": {
    "collapsed": true
   },
   "outputs": [],
   "source": [
    "def mapcount(x):\n",
    "    ## find the row index that ip address falls into the range in IP_to_country_dict\n",
    "    ## if there is no corresponding range covers certain ip_address, it will be mapped to 'NA'\n",
    "\n",
    "    K=(IP_to_country_dict['upper_bound_ip_address']>=x) &(IP_to_country_dict['lower_bound_ip_address']<=x)\n",
    "    if any(K) :\n",
    "        return (IP_to_country_dict['country'][K].get_values()[0])\n",
    "    else:\n",
    "        return ('NA')"
   ]
  },
  {
   "cell_type": "code",
   "execution_count": 54,
   "metadata": {
    "collapsed": false
   },
   "outputs": [],
   "source": [
    "#fraud_df['ip_address'].values"
   ]
  },
  {
   "cell_type": "code",
   "execution_count": 56,
   "metadata": {
    "collapsed": false
   },
   "outputs": [],
   "source": [
    "country=[]\n",
    "for i in fraud_df['ip_address']:\n",
    "    country.append(mapcount(i))"
   ]
  },
  {
   "cell_type": "code",
   "execution_count": 58,
   "metadata": {
    "collapsed": false
   },
   "outputs": [],
   "source": [
    "fraud_df['country']=country"
   ]
  },
  {
   "cell_type": "code",
   "execution_count": 59,
   "metadata": {
    "collapsed": false
   },
   "outputs": [],
   "source": [
    "#fraud_df.columns"
   ]
  },
  {
   "cell_type": "markdown",
   "metadata": {},
   "source": [
    "* save the output to a file as the mapping takes long"
   ]
  },
  {
   "cell_type": "code",
   "execution_count": 60,
   "metadata": {
    "collapsed": false
   },
   "outputs": [],
   "source": [
    "## fraud_df.to_csv('fraud_df_with_Country.csv')\n",
    "#fraud_df.head()\n",
    "#fraud_df=pd.read_csv('fraud_df_with_Country.csv',index_col=0)"
   ]
  },
  {
   "cell_type": "markdown",
   "metadata": {
    "collapsed": true
   },
   "source": [
    "* check how the fraud rate is associated with country, if there is no difference, then just combine those rare country to others, to reduce the feature dimension"
   ]
  },
  {
   "cell_type": "code",
   "execution_count": 61,
   "metadata": {
    "collapsed": false
   },
   "outputs": [
    {
     "name": "stdout",
     "output_type": "stream",
     "text": [
      "United States        58049\n",
      "China                12038\n",
      "Japan                 7306\n",
      "United Kingdom        4490\n",
      "Korea Republic of     4162\n",
      "Name: country, dtype: int64\n",
      "181\n"
     ]
    }
   ],
   "source": [
    "print(fraud_df['country'].value_counts().sort_values(ascending=False).head())\n",
    "print(fraud_df['country'].value_counts().sort_values(ascending=False).count())"
   ]
  },
  {
   "cell_type": "markdown",
   "metadata": {},
   "source": [
    "- in total 181 countries mapped, but the customer distribution is skewed. \n",
    "- Check whether I can short this list by group the long tail into one bucket"
   ]
  },
  {
   "cell_type": "code",
   "execution_count": 62,
   "metadata": {
    "collapsed": false
   },
   "outputs": [],
   "source": [
    "fraud_df['country']=fraud_df['country'].fillna('NA')"
   ]
  },
  {
   "cell_type": "markdown",
   "metadata": {},
   "source": [
    "* only keep the top 50 countries by descending frequency"
   ]
  },
  {
   "cell_type": "code",
   "execution_count": 63,
   "metadata": {
    "collapsed": false
   },
   "outputs": [],
   "source": [
    "d=list(fraud_df['country'].value_counts()[:50].index.get_values())"
   ]
  },
  {
   "cell_type": "markdown",
   "metadata": {},
   "source": [
    "* replace the country with other if they are not on the top 50 list"
   ]
  },
  {
   "cell_type": "code",
   "execution_count": 64,
   "metadata": {
    "collapsed": false
   },
   "outputs": [],
   "source": [
    "fraud_df['country_simplified']=[x if x in d else 'Others' for x in fraud_df['country'] ]"
   ]
  },
  {
   "cell_type": "code",
   "execution_count": 65,
   "metadata": {
    "collapsed": false
   },
   "outputs": [],
   "source": [
    "country_fraud=fraud_df.groupby(['country_simplified']).agg({'class':[np.mean,np.size]})\n",
    "country_fraud.columns=['mean', 'size']"
   ]
  },
  {
   "cell_type": "code",
   "execution_count": 67,
   "metadata": {
    "collapsed": false
   },
   "outputs": [
    {
     "data": {
      "text/html": [
       "<div>\n",
       "<style scoped>\n",
       "    .dataframe tbody tr th:only-of-type {\n",
       "        vertical-align: middle;\n",
       "    }\n",
       "\n",
       "    .dataframe tbody tr th {\n",
       "        vertical-align: top;\n",
       "    }\n",
       "\n",
       "    .dataframe thead th {\n",
       "        text-align: right;\n",
       "    }\n",
       "</style>\n",
       "<table border=\"1\" class=\"dataframe\">\n",
       "  <thead>\n",
       "    <tr style=\"text-align: right;\">\n",
       "      <th></th>\n",
       "      <th>mean</th>\n",
       "      <th>size</th>\n",
       "    </tr>\n",
       "    <tr>\n",
       "      <th>country_simplified</th>\n",
       "      <th></th>\n",
       "      <th></th>\n",
       "    </tr>\n",
       "  </thead>\n",
       "  <tbody>\n",
       "    <tr>\n",
       "      <th>New Zealand</th>\n",
       "      <td>0.22</td>\n",
       "      <td>278</td>\n",
       "    </tr>\n",
       "    <tr>\n",
       "      <th>Belgium</th>\n",
       "      <td>0.14</td>\n",
       "      <td>409</td>\n",
       "    </tr>\n",
       "    <tr>\n",
       "      <th>Mexico</th>\n",
       "      <td>0.13</td>\n",
       "      <td>1121</td>\n",
       "    </tr>\n",
       "    <tr>\n",
       "      <th>Iran (ISLAMIC Republic Of)</th>\n",
       "      <td>0.11</td>\n",
       "      <td>389</td>\n",
       "    </tr>\n",
       "    <tr>\n",
       "      <th>Finland</th>\n",
       "      <td>0.10</td>\n",
       "      <td>460</td>\n",
       "    </tr>\n",
       "    <tr>\n",
       "      <th>Brazil</th>\n",
       "      <td>0.09</td>\n",
       "      <td>2961</td>\n",
       "    </tr>\n",
       "    <tr>\n",
       "      <th>Indonesia</th>\n",
       "      <td>0.09</td>\n",
       "      <td>649</td>\n",
       "    </tr>\n",
       "    <tr>\n",
       "      <th>Taiwan; Republic of China (ROC)</th>\n",
       "      <td>0.08</td>\n",
       "      <td>1237</td>\n",
       "    </tr>\n",
       "    <tr>\n",
       "      <th>Spain</th>\n",
       "      <td>0.07</td>\n",
       "      <td>1027</td>\n",
       "    </tr>\n",
       "    <tr>\n",
       "      <th>Poland</th>\n",
       "      <td>0.05</td>\n",
       "      <td>729</td>\n",
       "    </tr>\n",
       "  </tbody>\n",
       "</table>\n",
       "</div>"
      ],
      "text/plain": [
       "                                 mean  size\n",
       "country_simplified                         \n",
       "New Zealand                      0.22   278\n",
       "Belgium                          0.14   409\n",
       "Mexico                           0.13  1121\n",
       "Iran (ISLAMIC Republic Of)       0.11   389\n",
       "Finland                          0.10   460\n",
       "Brazil                           0.09  2961\n",
       "Indonesia                        0.09   649\n",
       "Taiwan; Republic of China (ROC)  0.08  1237\n",
       "Spain                            0.07  1027\n",
       "Poland                           0.05   729"
      ]
     },
     "execution_count": 67,
     "metadata": {},
     "output_type": "execute_result"
    }
   ],
   "source": [
    "pd.options.display.float_format = '{:,.2f}'.format\n",
    "country_fraud.sort_values(by=['mean'],ascending=False).iloc[1:-1:5,:]"
   ]
  },
  {
   "cell_type": "code",
   "execution_count": 10,
   "metadata": {
    "collapsed": false
   },
   "outputs": [
    {
     "name": "stdout",
     "output_type": "stream",
     "text": [
      "All customers that IP address can not matched with a country are with fraud rate 0.086\n",
      "All customers that IP address matched to a country casted as other are with fraud rate 0.094\n",
      "All other countries (except for NAs and Others) fraud rate is 0.095\n"
     ]
    }
   ],
   "source": [
    "print('All customers that IP address can not matched with a country are with fraud rate {:.3f}'.format(country_fraud.loc['NA'][0]))\n",
    "print('All customers that IP address matched to a country casted as ''other'' are with fraud rate {:.3f}'.format(country_fraud.loc['Others'][0]))\n",
    "print('All other countries (except for NAs and Others) fraud rate is {:.3f}'.format(fraud_df[(fraud_df['country']!='NA')&(fraud_df['country']!='Others')]['class'].mean()))"
   ]
  },
  {
   "cell_type": "markdown",
   "metadata": {},
   "source": [
    "<div class=\"alert alert-block alert-info\">\n",
    "<b>Mapping Process Summary:</b><br>* 1. mapped the IP_address to country with logic designed*<br>* 2. filled missing value *<br>* 3. bucketed the customers in less appeared countries into 'other' category *<br>* 4. validation: the fraud rate of NA is 0.09, the fraud rate of other is also 0.09. same as the rest of the country fraud rate. So this group works*\n",
    "</div>"
   ]
  },
  {
   "cell_type": "markdown",
   "metadata": {},
   "source": [
    "###  2. Data Cleaning & Feature Engineer\n",
    "  * __Time-Related variables__ : <br>\n",
    "    -- understand the time range <br>\n",
    "    -- turn time to numerical var <br>\n",
    "    -- find other feature and check correlation with target var <br>"
   ]
  },
  {
   "cell_type": "code",
   "execution_count": 68,
   "metadata": {
    "collapsed": true
   },
   "outputs": [],
   "source": [
    "fraud_df['purchase_time_stamp']=pd.to_datetime(fraud_df['purchase_time'])\n",
    "fraud_df['signup_time_stamp']=pd.to_datetime(fraud_df['signup_time'])"
   ]
  },
  {
   "cell_type": "markdown",
   "metadata": {},
   "source": [
    "* check the sign up and purchase time distribution"
   ]
  },
  {
   "cell_type": "code",
   "execution_count": 69,
   "metadata": {
    "collapsed": false
   },
   "outputs": [
    {
     "name": "stdout",
     "output_type": "stream",
     "text": [
      "time span of purchase time is 2015-01-01 00:00:44 to 2015-12-16 02:56:05\n",
      "time span of purchase time is 2015-01-01 00:00:42 to 2015-08-18 04:40:29\n"
     ]
    }
   ],
   "source": [
    "#check range\n",
    "print('time span of purchase time is {} to {}'.format(min(fraud_df['purchase_time_stamp']),max(fraud_df['purchase_time_stamp'])))\n",
    "print('time span of purchase time is {} to {}'.format(min(fraud_df['signup_time_stamp']),max(fraud_df['signup_time_stamp'])))"
   ]
  },
  {
   "cell_type": "markdown",
   "metadata": {},
   "source": [
    "* as there is only one year covered, it would be ideal to bucket the time into months"
   ]
  },
  {
   "cell_type": "code",
   "execution_count": 70,
   "metadata": {
    "collapsed": true
   },
   "outputs": [],
   "source": [
    "fraud_df['Purch_Month']=[x.month for x in fraud_df['purchase_time_stamp']]\n",
    "fraud_df['signup_Month']=[x.month for x in fraud_df['signup_time_stamp']]"
   ]
  },
  {
   "cell_type": "code",
   "execution_count": 71,
   "metadata": {
    "collapsed": true
   },
   "outputs": [
    {
     "name": "stdout",
     "output_type": "stream",
     "text": [
      "              Number of Customers  Average Fraud Rate\n",
      "signup_Month                                         \n",
      "1                           26978                0.31\n",
      "2                           17535                0.05\n",
      "3                           19555                0.04\n",
      "4                           18895                0.05\n",
      "5                           19338                0.04\n",
      "6                           18633                0.05\n",
      "7                           19454                0.05\n",
      "8                           10724                0.05\n",
      "\n",
      "\n",
      "             Number of Customers  Average Fraud Rate\n",
      "Purch_Month                                         \n",
      "1                          10097                0.76\n",
      "2                           6449                0.05\n",
      "3                          12090                0.05\n",
      "4                          16551                0.04\n",
      "5                          19364                0.05\n",
      "6                          18908                0.04\n",
      "7                          19507                0.05\n",
      "8                          18662                0.04\n",
      "9                          14347                0.05\n",
      "10                          9815                0.05\n",
      "11                          4743                0.05\n",
      "12                           579                0.06\n"
     ]
    },
    {
     "name": "stderr",
     "output_type": "stream",
     "text": [
      "C:\\Users\\Yilun\\Anaconda3\\lib\\site-packages\\ipykernel\\__main__.py:1: FutureWarning: using a dict on a Series for aggregation\n",
      "is deprecated and will be removed in a future version\n",
      "  if __name__ == '__main__':\n",
      "C:\\Users\\Yilun\\Anaconda3\\lib\\site-packages\\ipykernel\\__main__.py:3: FutureWarning: using a dict on a Series for aggregation\n",
      "is deprecated and will be removed in a future version\n",
      "  app.launch_new_instance()\n"
     ]
    }
   ],
   "source": [
    "print(fraud_df.groupby('signup_Month')['class'].agg({'Average Fraud Rate': np.average, 'Number of Customers': np.size}))\n",
    "print('\\n')\n",
    "print(fraud_df.groupby('Purch_Month')['class'].agg({'Average Fraud Rate': np.average, 'Number of Customers': np.size}))"
   ]
  },
  {
   "cell_type": "markdown",
   "metadata": {},
   "source": [
    "                     Number of Customers  Average Fraud Rate\n",
    "        signup_Month                                         \n",
    "        1                           26978                0.31\n",
    "        2                           17535                0.05\n",
    "        3                           19555                0.04\n",
    "        4                           18895                0.05\n",
    "        5                           19338                0.04\n",
    "        6                           18633                0.05\n",
    "        7                           19454                0.05\n",
    "        8                           10724                0.05\n",
    "        \n",
    "        \n",
    "                     Number of Customers  Average Fraud Rate\n",
    "        Purch_Month                                         \n",
    "        1                          10097                0.76\n",
    "        2                           6449                0.05\n",
    "        3                          12090                0.05\n",
    "        4                          16551                0.04\n",
    "        5                          19364                0.05\n",
    "        6                          18908                0.04\n",
    "        7                          19507                0.05\n",
    "        8                          18662                0.04\n",
    "        9                          14347                0.05\n",
    "        10                          9815                0.05\n",
    "        11                          4743                0.05\n",
    "        12                           579                0.06"
   ]
  },
  {
   "cell_type": "markdown",
   "metadata": {},
   "source": [
    "<div class=\"alert alert-block alert-info\">\n",
    "<b>Findings - Signup and purchase time:</b><br>\n",
    "* 1. Apart from month 1, the fraud rate for all months are similar. So here have purchase_month=1 and signup_month=1 as a separate var<br>\n",
    "* 2. 31% of transactions that customers signed up Jan-15 fraud.<br>\n",
    "* 3. 76% of customer purchased Jan-15 fraud.<br>\n",
    "* 4. Analyze how the interval between sign and purchase play a role here <br>\n",
    "</div>"
   ]
  },
  {
   "cell_type": "code",
   "execution_count": 72,
   "metadata": {
    "collapsed": true
   },
   "outputs": [],
   "source": [
    "fraud_df['Sign_to_Purch']=fraud_df.apply(lambda x:x['purchase_time_stamp']-x['signup_time_stamp'],axis=1)"
   ]
  },
  {
   "cell_type": "markdown",
   "metadata": {},
   "source": [
    "* convert the time interval to numerical"
   ]
  },
  {
   "cell_type": "code",
   "execution_count": 73,
   "metadata": {
    "collapsed": true
   },
   "outputs": [],
   "source": [
    "import datetime as dt\n",
    "# introduce time interval and make the time dif as numeric\n",
    "fraud_df['Sign_to_Purch_day']=fraud_df['Sign_to_Purch']/dt.timedelta(days=1)"
   ]
  },
  {
   "cell_type": "markdown",
   "metadata": {},
   "source": [
    "* the overall default customers are 14k, appx. 10% of the overall volumn"
   ]
  },
  {
   "cell_type": "markdown",
   "metadata": {},
   "source": [
    "* check how the sign-to-purchase time gap correlate with fraud"
   ]
  },
  {
   "cell_type": "code",
   "execution_count": 74,
   "metadata": {
    "collapsed": false
   },
   "outputs": [
    {
     "data": {
      "text/html": [
       "<div>\n",
       "<style scoped>\n",
       "    .dataframe tbody tr th:only-of-type {\n",
       "        vertical-align: middle;\n",
       "    }\n",
       "\n",
       "    .dataframe tbody tr th {\n",
       "        vertical-align: top;\n",
       "    }\n",
       "\n",
       "    .dataframe thead th {\n",
       "        text-align: right;\n",
       "    }\n",
       "</style>\n",
       "<table border=\"1\" class=\"dataframe\">\n",
       "  <thead>\n",
       "    <tr style=\"text-align: right;\">\n",
       "      <th></th>\n",
       "      <th>Sign_to_Purch_day</th>\n",
       "      <th>class</th>\n",
       "    </tr>\n",
       "  </thead>\n",
       "  <tbody>\n",
       "    <tr>\n",
       "      <th>Sign_to_Purch_day</th>\n",
       "      <td>1.00</td>\n",
       "      <td>-0.26</td>\n",
       "    </tr>\n",
       "    <tr>\n",
       "      <th>class</th>\n",
       "      <td>-0.26</td>\n",
       "      <td>1.00</td>\n",
       "    </tr>\n",
       "  </tbody>\n",
       "</table>\n",
       "</div>"
      ],
      "text/plain": [
       "                   Sign_to_Purch_day  class\n",
       "Sign_to_Purch_day               1.00  -0.26\n",
       "class                          -0.26   1.00"
      ]
     },
     "execution_count": 74,
     "metadata": {},
     "output_type": "execute_result"
    }
   ],
   "source": [
    "fraud_df[['Sign_to_Purch_day','class']].corr()"
   ]
  },
  {
   "cell_type": "markdown",
   "metadata": {},
   "source": [
    "* the longer time interval between sign and purchase, the less likely it is a fraud"
   ]
  },
  {
   "cell_type": "code",
   "execution_count": 75,
   "metadata": {
    "collapsed": false
   },
   "outputs": [
    {
     "name": "stdout",
     "output_type": "stream",
     "text": [
      "Overall fraud distribution \n",
      " class\n",
      "0    136961\n",
      "1     14151\n",
      "dtype: int64 \n",
      "\n",
      "Average Sign up to Purchase day interval by fraud class \n",
      "        Sign_to_Purch_day\n",
      "class                   \n",
      "0                  60.08\n",
      "1                  28.05\n"
     ]
    }
   ],
   "source": [
    "print('Overall fraud distribution \\n',fraud_df.groupby(['class']).size(),'\\n')\n",
    "print('Average Sign up to Purchase day interval by fraud class \\n', fraud_df[['Sign_to_Purch_day','class']].groupby('class').mean())"
   ]
  },
  {
   "cell_type": "markdown",
   "metadata": {},
   "source": [
    "* fraud customers have shorter time interval between sign up and the first purchase, attested the original assumption\n",
    "* want to check the detailed pattern, as is there any particular time interval fraud customers usually have\n",
    "  -- from below we can see all customer sign and purchae immediately <0.001 days are all fraud"
   ]
  },
  {
   "cell_type": "code",
   "execution_count": 77,
   "metadata": {
    "collapsed": false
   },
   "outputs": [
    {
     "name": "stderr",
     "output_type": "stream",
     "text": [
      "C:\\Users\\Yilun\\Anaconda3\\lib\\site-packages\\ipykernel\\__main__.py:2: FutureWarning: using a dict on a Series for aggregation\n",
      "is deprecated and will be removed in a future version\n",
      "  from ipykernel import kernelapp as app\n"
     ]
    },
    {
     "name": "stdout",
     "output_type": "stream",
     "text": [
      "                   Size  Average Fraud Rate\n",
      "Sign_to_Purch_day                          \n",
      "0.000              7600                   1\n",
      "8.523                 1                   0\n",
      "16.999                1                   0\n",
      "25.164                1                   0\n",
      "33.539                1                   0\n",
      "42.030                1                   0\n",
      "50.390                1                   0\n",
      "58.663                1                   0\n",
      "67.001                1                   0\n",
      "75.292                1                   0\n",
      "83.671                1                   0\n",
      "92.037                1                   0\n",
      "100.392               1                   0\n",
      "108.708               1                   0\n",
      "117.068               1                   0\n"
     ]
    }
   ],
   "source": [
    "pd.options.display.float_format = '{:,.3f}'.format\n",
    "##print(fraud_df.groupby('Sign_to_Purch_day')['class'].agg({'Average Fraud Rate':np.mean,'Size':np.size}))\n",
    "print(fraud_df.groupby('Sign_to_Purch_day')['class'].agg({'Average Fraud Rate':np.mean,'Size':np.size}).iloc[::10000,:])"
   ]
  },
  {
   "cell_type": "code",
   "execution_count": 78,
   "metadata": {
    "collapsed": false
   },
   "outputs": [],
   "source": [
    "fraud_df['Sign_to_Purch_Same']=fraud_df['Sign_to_Purch_day']<0.001"
   ]
  },
  {
   "cell_type": "code",
   "execution_count": 79,
   "metadata": {
    "collapsed": false
   },
   "outputs": [
    {
     "data": {
      "text/html": [
       "<div>\n",
       "<style scoped>\n",
       "    .dataframe tbody tr th:only-of-type {\n",
       "        vertical-align: middle;\n",
       "    }\n",
       "\n",
       "    .dataframe tbody tr th {\n",
       "        vertical-align: top;\n",
       "    }\n",
       "\n",
       "    .dataframe thead th {\n",
       "        text-align: right;\n",
       "    }\n",
       "</style>\n",
       "<table border=\"1\" class=\"dataframe\">\n",
       "  <thead>\n",
       "    <tr style=\"text-align: right;\">\n",
       "      <th>class</th>\n",
       "      <th>0</th>\n",
       "      <th>1</th>\n",
       "    </tr>\n",
       "    <tr>\n",
       "      <th>Sign_to_Purch_Same</th>\n",
       "      <th></th>\n",
       "      <th></th>\n",
       "    </tr>\n",
       "  </thead>\n",
       "  <tbody>\n",
       "    <tr>\n",
       "      <th>False</th>\n",
       "      <td>136961</td>\n",
       "      <td>6551</td>\n",
       "    </tr>\n",
       "    <tr>\n",
       "      <th>True</th>\n",
       "      <td>0</td>\n",
       "      <td>7600</td>\n",
       "    </tr>\n",
       "  </tbody>\n",
       "</table>\n",
       "</div>"
      ],
      "text/plain": [
       "class                    0     1\n",
       "Sign_to_Purch_Same              \n",
       "False               136961  6551\n",
       "True                     0  7600"
      ]
     },
     "execution_count": 79,
     "metadata": {},
     "output_type": "execute_result"
    }
   ],
   "source": [
    "pd.crosstab(fraud_df['Sign_to_Purch_Same'],fraud_df['class'])"
   ]
  },
  {
   "cell_type": "markdown",
   "metadata": {},
   "source": [
    "<div class=\"alert alert-block alert-info\">\n",
    "<b>Findings - Signup and purchase time (2) interval :</b><br>\n",
    " 1. 7600 Out of the total 14151 fraud are customer sign up and buy immediately. <br>\n",
    " 2. All customer sign and buy immediately are fraud customers <br>\n",
    "<b>Feature Engineer :</b><br>\n",
    "keep 2 derived feature from time attributes<br>\n",
    "1 Signup to Purchase would be a continuous var. <br> 2 And one binary var indicating whether the customer purchase immediately after signup could also useful <br>\n",
    "</div>"
   ]
  },
  {
   "cell_type": "markdown",
   "metadata": {},
   "source": [
    "###  2. Data Cleaning & Feature Engineer\n",
    "  * __Device_Id__ \n",
    "  * (1) distribution of # devices used more than once across the timeperiod\n",
    "  * (2) how multi-time used device correlated with fraud "
   ]
  },
  {
   "cell_type": "code",
   "execution_count": 25,
   "metadata": {
    "collapsed": false
   },
   "outputs": [
    {
     "data": {
      "text/plain": [
       "<matplotlib.axes._subplots.AxesSubplot at 0x2972f7a1e10>"
      ]
     },
     "execution_count": 25,
     "metadata": {},
     "output_type": "execute_result"
    },
    {
     "data": {
      "image/png": "[encoded data removed]",
      "text/plain": [
       "<matplotlib.figure.Figure at 0x2972f76bcc0>"
      ]
     },
     "metadata": {},
     "output_type": "display_data"
    }
   ],
   "source": [
    "fraud_df['device_id'].value_counts()[fraud_df['device_id'].value_counts()>2].value_counts().plot.bar()"
   ]
  },
  {
   "cell_type": "code",
   "execution_count": 26,
   "metadata": {
    "collapsed": true
   },
   "outputs": [],
   "source": [
    "dupe_device_and_dupe_times=fraud_df['device_id'].value_counts()\n",
    "\n",
    "dupe_device_and_dupe_times\n",
    "\n",
    "device_time_used=pd.DataFrame(dupe_device_and_dupe_times).rename(columns={'device_id':'device_id_TimeUsed'})\n",
    "\n",
    "device_time_used.index.names=['device_id']\n",
    "\n",
    "fraud_df=fraud_df.join(device_time_used, on='device_id',how='left')"
   ]
  },
  {
   "cell_type": "markdown",
   "metadata": {},
   "source": [
    "* check how fraud is correlated with deviced time used"
   ]
  },
  {
   "cell_type": "code",
   "execution_count": 27,
   "metadata": {
    "collapsed": false
   },
   "outputs": [
    {
     "data": {
      "text/html": [
       "<div>\n",
       "<style scoped>\n",
       "    .dataframe tbody tr th:only-of-type {\n",
       "        vertical-align: middle;\n",
       "    }\n",
       "\n",
       "    .dataframe tbody tr th {\n",
       "        vertical-align: top;\n",
       "    }\n",
       "\n",
       "    .dataframe thead th {\n",
       "        text-align: right;\n",
       "    }\n",
       "</style>\n",
       "<table border=\"1\" class=\"dataframe\">\n",
       "  <thead>\n",
       "    <tr style=\"text-align: right;\">\n",
       "      <th></th>\n",
       "      <th>device_id_TimeUsed</th>\n",
       "      <th>class</th>\n",
       "    </tr>\n",
       "  </thead>\n",
       "  <tbody>\n",
       "    <tr>\n",
       "      <th>device_id_TimeUsed</th>\n",
       "      <td>1.000</td>\n",
       "      <td>0.671</td>\n",
       "    </tr>\n",
       "    <tr>\n",
       "      <th>class</th>\n",
       "      <td>0.671</td>\n",
       "      <td>1.000</td>\n",
       "    </tr>\n",
       "  </tbody>\n",
       "</table>\n",
       "</div>"
      ],
      "text/plain": [
       "                    device_id_TimeUsed  class\n",
       "device_id_TimeUsed               1.000  0.671\n",
       "class                            0.671  1.000"
      ]
     },
     "execution_count": 27,
     "metadata": {},
     "output_type": "execute_result"
    }
   ],
   "source": [
    "fraud_df[['device_id_TimeUsed','class']].corr()"
   ]
  },
  {
   "cell_type": "code",
   "execution_count": 28,
   "metadata": {
    "collapsed": false
   },
   "outputs": [],
   "source": [
    "DeviceUsedTimes_vs_Fraud=pd.crosstab(fraud_df['device_id_TimeUsed'],fraud_df['class'])"
   ]
  },
  {
   "cell_type": "code",
   "execution_count": 29,
   "metadata": {
    "collapsed": false
   },
   "outputs": [],
   "source": [
    "DeviceUsedTimes_vs_Fraud['Fraud_Ratio']=pd.crosstab(fraud_df['device_id_TimeUsed'],fraud_df['class']).apply(lambda x:x[1]/sum(x),axis=1)"
   ]
  },
  {
   "cell_type": "code",
   "execution_count": 30,
   "metadata": {
    "collapsed": false
   },
   "outputs": [
    {
     "data": {
      "text/plain": [
       "device_id_TimeUsed\n",
       "1    0.030\n",
       "2    0.229\n",
       "3    0.244\n",
       "4    0.625\n",
       "5    0.800\n",
       "6    0.828\n",
       "7    0.860\n",
       "8    0.875\n",
       "9    0.889\n",
       "10   0.899\n",
       "11   0.908\n",
       "12   0.919\n",
       "13   0.922\n",
       "14   0.927\n",
       "15   0.924\n",
       "16   0.934\n",
       "17   0.937\n",
       "18   0.939\n",
       "19   0.947\n",
       "20   0.950\n",
       "Name: Fraud_Ratio, dtype: float64"
      ]
     },
     "execution_count": 30,
     "metadata": {},
     "output_type": "execute_result"
    }
   ],
   "source": [
    "DeviceUsedTimes_vs_Fraud['Fraud_Ratio']"
   ]
  },
  {
   "cell_type": "code",
   "execution_count": 31,
   "metadata": {
    "collapsed": false
   },
   "outputs": [
    {
     "data": {
      "text/plain": [
       "<matplotlib.axes._subplots.AxesSubplot at 0x2972f8738d0>"
      ]
     },
     "execution_count": 31,
     "metadata": {},
     "output_type": "execute_result"
    },
    {
     "data": {
      "image/png": "[encoded data removed]",
      "text/plain": [
       "<matplotlib.figure.Figure at 0x2972f856cf8>"
      ]
     },
     "metadata": {},
     "output_type": "display_data"
    }
   ],
   "source": [
    "DeviceUsedTimes_vs_Fraud['Fraud_Ratio'].plot()"
   ]
  },
  {
   "cell_type": "markdown",
   "metadata": {},
   "source": [
    "* if the device is used by 2 & 2+ customers, the fraud rate is much higher than normal."
   ]
  },
  {
   "cell_type": "markdown",
   "metadata": {},
   "source": [
    "<div class=\"alert alert-block alert-info\">\n",
    "<b>Findings - Multi-used Device_ID :</b><br>\n",
    "* If one device_id is used multiple times within this time range<br>\n",
    "-- the transaction with device_id used 2-4 times is of 10X default rate compared with transactions with device_id only appeared once.<br>\n",
    "-- the transaction with device_id used 5+ times is of 30X default rate compared with transactions with device_id only appeared once.<br>\n",
    "\n",
    "<b>Feature Engineer  :</b><br>\n",
    "* This variable include information for future train and test set. So need further operation when comming to modeling<br>\n",
    "-- Use only training set device information to create the 'number used' tagging.<br>\n",
    "-- In model validation, the variable should be whether the device id was in the training dataset.<br>\n",
    "-- In real-time testing, use time series to check whether the device id has appeard in the history or not. <br>"
   ]
  },
  {
   "cell_type": "markdown",
   "metadata": {},
   "source": [
    "###  2. Data Cleaning & Feature Engineer\n",
    "  * __Other Metrics Scale__ \n",
    "   - numerical : purchase_value -- distribution and whether need to transform\n",
    "   - categorical : source, country, browser, sex"
   ]
  },
  {
   "cell_type": "markdown",
   "metadata": {},
   "source": [
    "* check whether need to scale purchase value"
   ]
  },
  {
   "cell_type": "code",
   "execution_count": 32,
   "metadata": {
    "collapsed": false
   },
   "outputs": [
    {
     "data": {
      "text/plain": [
       "<matplotlib.axes._subplots.AxesSubplot at 0x2972f8a7dd8>"
      ]
     },
     "execution_count": 32,
     "metadata": {},
     "output_type": "execute_result"
    },
    {
     "data": {
      "image/png": "[encoded data removed]",
      "text/plain": [
       "<matplotlib.figure.Figure at 0x2972e6a0b00>"
      ]
     },
     "metadata": {},
     "output_type": "display_data"
    }
   ],
   "source": [
    "fraud_df['purchase_value'].hist()"
   ]
  },
  {
   "cell_type": "code",
   "execution_count": 39,
   "metadata": {
    "collapsed": false
   },
   "outputs": [
    {
     "data": {
      "text/plain": [
       "class\n",
       "0   36.9294\n",
       "1   36.9930\n",
       "Name: purchase_value, dtype: float64"
      ]
     },
     "execution_count": 39,
     "metadata": {},
     "output_type": "execute_result"
    }
   ],
   "source": [
    "fraud_df.groupby(['class'])['purchase_value'].mean()"
   ]
  },
  {
   "cell_type": "code",
   "execution_count": 82,
   "metadata": {
    "collapsed": false
   },
   "outputs": [
    {
     "name": "stdout",
     "output_type": "stream",
     "text": [
      "sex        F      M\n",
      "class              \n",
      "0      57102  79859\n",
      "1       5717   8434\n"
     ]
    }
   ],
   "source": [
    "print(pd.crosstab(fraud_df['class'],fraud_df['sex']))"
   ]
  },
  {
   "cell_type": "markdown",
   "metadata": {},
   "source": [
    "<div class=\"alert alert-block alert-info\">\n",
    "<b>Other Variables -- Scale Approach :</b><br> \n",
    "  - 'purchase_value' distribution is pretty close to normal, no need to scale <br> \n",
    "  - for other binary variable, use 'LabelEncoder' to transform  <br> \n",
    "  - for other categorical variables, as they are not ordinal, use pandas 'get_dummy' to transform. <br> \n",
    "</div>"
   ]
  },
  {
   "cell_type": "code",
   "execution_count": 33,
   "metadata": {
    "collapsed": false
   },
   "outputs": [],
   "source": [
    "from sklearn.preprocessing import LabelEncoder\n",
    "enc = LabelEncoder()\n",
    "fraud_df['sex'] = enc.fit_transform(fraud_df['sex'])\n",
    "fraud_df['Sign_to_Purch_Same'] = enc.fit_transform(fraud_df['Sign_to_Purch_Same'])\n",
    "fraud_df['Purch_Month_Jan'] = enc.fit_transform(fraud_df['Purch_Month']==1)\n",
    "fraud_df['signup_Month_Jan'] = enc.fit_transform(fraud_df['signup_Month']==1)\n"
   ]
  },
  {
   "cell_type": "markdown",
   "metadata": {},
   "source": [
    "* check the correlation before transform to categorical vars"
   ]
  },
  {
   "cell_type": "code",
   "execution_count": 34,
   "metadata": {
    "collapsed": false
   },
   "outputs": [],
   "source": [
    "one_hot=pd.get_dummies(data=fraud_df.drop(columns=[ \n",
    "            ##remove columns that been simplified or transformed\n",
    "            ##keep deviceid here for var generation after train-test split\n",
    "            'signup_time', 'purchase_time', 'ip_address', 'country',\n",
    "            'purchase_time_stamp', 'signup_time_stamp', 'Sign_to_Purch'\n",
    "            ]).set_index('user_id'),\n",
    "            ##transform categorical variables\n",
    "                       columns=[ 'source', 'browser', 'country_simplified'])"
   ]
  },
  {
   "cell_type": "code",
   "execution_count": 35,
   "metadata": {
    "collapsed": true
   },
   "outputs": [
    {
     "data": {
      "text/plain": [
       "purchase_value                                                   34\n",
       "device_id                                             QVPSPJUOCKZAR\n",
       "sex                                                               1\n",
       "age                                                              39\n",
       "class                                                             0\n",
       "Purch_Month                                                       4\n",
       "signup_Month                                                      2\n",
       "Sign_to_Purch_day                                            52.161\n",
       "Sign_to_Purch_Same                                                0\n",
       "device_id_TimeUsed                                                1\n",
       "Purch_Month_Jan                                                   0\n",
       "signup_Month_Jan                                                  0\n",
       "source_Ads                                                        0\n",
       "source_Direct                                                     0\n",
       "source_SEO                                                        1\n",
       "browser_Chrome                                                    1\n",
       "browser_FireFox                                                   0\n",
       "browser_IE                                                        0\n",
       "browser_Opera                                                     0\n",
       "browser_Safari                                                    0\n",
       "country_simplified_Argentina                                      0\n",
       "country_simplified_Australia                                      0\n",
       "country_simplified_Austria                                        0\n",
       "country_simplified_Belgium                                        0\n",
       "country_simplified_Brazil                                         0\n",
       "country_simplified_Canada                                         0\n",
       "country_simplified_Chile                                          0\n",
       "country_simplified_China                                          0\n",
       "country_simplified_Colombia                                       0\n",
       "country_simplified_Czech Republic                                 0\n",
       "                                                          ...      \n",
       "country_simplified_Iran (ISLAMIC Republic Of)                     0\n",
       "country_simplified_Ireland                                        0\n",
       "country_simplified_Israel                                         0\n",
       "country_simplified_Italy                                          0\n",
       "country_simplified_Japan                                          1\n",
       "country_simplified_Korea Republic of                              0\n",
       "country_simplified_Malaysia                                       0\n",
       "country_simplified_Mexico                                         0\n",
       "country_simplified_NA                                             0\n",
       "country_simplified_Netherlands                                    0\n",
       "country_simplified_New Zealand                                    0\n",
       "country_simplified_Norway                                         0\n",
       "country_simplified_Others                                         0\n",
       "country_simplified_Poland                                         0\n",
       "country_simplified_Portugal                                       0\n",
       "country_simplified_Romania                                        0\n",
       "country_simplified_Russian Federation                             0\n",
       "country_simplified_Saudi Arabia                                   0\n",
       "country_simplified_South Africa                                   0\n",
       "country_simplified_Spain                                          0\n",
       "country_simplified_Sweden                                         0\n",
       "country_simplified_Switzerland                                    0\n",
       "country_simplified_Taiwan; Republic of China (ROC)                0\n",
       "country_simplified_Thailand                                       0\n",
       "country_simplified_Turkey                                         0\n",
       "country_simplified_Ukraine                                        0\n",
       "country_simplified_United Kingdom                                 0\n",
       "country_simplified_United States                                  0\n",
       "country_simplified_Venezuela                                      0\n",
       "country_simplified_Viet Nam                                       0\n",
       "Name: 22058, Length: 71, dtype: object"
      ]
     },
     "execution_count": 35,
     "metadata": {},
     "output_type": "execute_result"
    }
   ],
   "source": [
    "one_hot.iloc[0]"
   ]
  },
  {
   "cell_type": "code",
   "execution_count": null,
   "metadata": {
    "collapsed": false
   },
   "outputs": [],
   "source": [
    "# check output view columns\n",
    "for i in one_hot.columns:\n",
    "    if not i.startswith('country'):\n",
    "        print(i)"
   ]
  },
  {
   "cell_type": "markdown",
   "metadata": {},
   "source": [
    "### 3. Model Building & Model Evaluation "
   ]
  },
  {
   "cell_type": "code",
   "execution_count": 10,
   "metadata": {
    "collapsed": true
   },
   "outputs": [],
   "source": [
    "from sklearn.cross_validation import train_test_split"
   ]
  },
  {
   "cell_type": "code",
   "execution_count": 11,
   "metadata": {
    "collapsed": false
   },
   "outputs": [],
   "source": [
    "# evaluation\n",
    "from sklearn import metrics\n",
    "from sklearn.metrics import roc_curve, auc\n",
    "from sklearn.metrics import confusion_matrix, classification_report\n",
    "from sklearn.cross_validation import cross_val_score\n",
    "from sklearn.metrics import mean_absolute_error,mean_squared_error,r2_score"
   ]
  },
  {
   "cell_type": "code",
   "execution_count": 12,
   "metadata": {
    "collapsed": true
   },
   "outputs": [],
   "source": [
    "from sklearn.linear_model import LogisticRegression\n",
    "from sklearn.linear_model import LinearRegression"
   ]
  },
  {
   "cell_type": "code",
   "execution_count": 13,
   "metadata": {
    "collapsed": false
   },
   "outputs": [],
   "source": [
    "# from numpy.core.umath_tests import inner1d"
   ]
  },
  {
   "cell_type": "code",
   "execution_count": 14,
   "metadata": {
    "collapsed": false
   },
   "outputs": [
    {
     "name": "stderr",
     "output_type": "stream",
     "text": [
      "C:\\Users\\Yilun\\Anaconda3\\lib\\site-packages\\sklearn\\ensemble\\weight_boosting.py:29: DeprecationWarning: numpy.core.umath_tests is an internal NumPy module and should not be imported. It will be removed in a future NumPy release.\n",
      "  from numpy.core.umath_tests import inner1d\n"
     ]
    }
   ],
   "source": [
    "from sklearn import svm\n",
    "from sklearn.neighbors import KNeighborsClassifier\n",
    "from sklearn.ensemble import RandomForestClassifier\n",
    "from sklearn.ensemble import AdaBoostClassifier"
   ]
  },
  {
   "cell_type": "code",
   "execution_count": 15,
   "metadata": {
    "collapsed": false
   },
   "outputs": [],
   "source": [
    "from sklearn.grid_search import RandomizedSearchCV, GridSearchCV"
   ]
  },
  {
   "cell_type": "code",
   "execution_count": 42,
   "metadata": {
    "collapsed": false
   },
   "outputs": [],
   "source": [
    "X_train,X_test,y_train,y_test=train_test_split(one_hot.drop(columns='class'),one_hot['class'],random_state=200,test_size=0.5)"
   ]
  },
  {
   "cell_type": "code",
   "execution_count": 44,
   "metadata": {
    "collapsed": false
   },
   "outputs": [],
   "source": [
    "#X_train.columns"
   ]
  },
  {
   "cell_type": "code",
   "execution_count": 45,
   "metadata": {
    "collapsed": false
   },
   "outputs": [
    {
     "data": {
      "text/plain": [
       "0    68402\n",
       "1     7154\n",
       "Name: class, dtype: int64"
      ]
     },
     "execution_count": 45,
     "metadata": {},
     "output_type": "execute_result"
    }
   ],
   "source": [
    "y_train.value_counts()"
   ]
  },
  {
   "cell_type": "code",
   "execution_count": 46,
   "metadata": {
    "collapsed": false
   },
   "outputs": [
    {
     "data": {
      "text/plain": [
       "(75556, 70)"
      ]
     },
     "execution_count": 46,
     "metadata": {},
     "output_type": "execute_result"
    }
   ],
   "source": [
    "X_test.shape"
   ]
  },
  {
   "cell_type": "code",
   "execution_count": 47,
   "metadata": {
    "collapsed": false
   },
   "outputs": [
    {
     "data": {
      "text/plain": [
       "0    68559\n",
       "1     6997\n",
       "Name: class, dtype: int64"
      ]
     },
     "execution_count": 47,
     "metadata": {},
     "output_type": "execute_result"
    }
   ],
   "source": [
    "y_test.value_counts()"
   ]
  },
  {
   "cell_type": "markdown",
   "metadata": {},
   "source": [
    "<div class=\"alert alert-block alert-info\">\n",
    "<b>Modeling Preprocessing 1 -- Rebuild Variable indicating whether the device has been used or not  :</b><br> \n",
    "  * - To avoid data leakage - rework on device_id_TimeUsed, to make it only include information for training set   <br> \n",
    "  * - Modify the variable. Have the value in training set minus 1 *__so not include the sample itself__*  to make it comparable between training and testing set   <br> \n",
    "</div>\n"
   ]
  },
  {
   "cell_type": "code",
   "execution_count": 48,
   "metadata": {
    "collapsed": true
   },
   "outputs": [],
   "source": [
    "# re generate 'device_id_TimeUsed'\n",
    "dupe_device_and_dupe_times=X_train['device_id'].value_counts()\n",
    "\n",
    "dupe_device_and_dupe_times\n",
    "\n",
    "device_time_used=pd.DataFrame(dupe_device_and_dupe_times).rename(columns={'device_id':'device_id_TimeUsed'})\n",
    "\n",
    "device_time_used.index.names=['device_id']"
   ]
  },
  {
   "cell_type": "code",
   "execution_count": 49,
   "metadata": {
    "collapsed": false
   },
   "outputs": [],
   "source": [
    "X_train=X_train.drop(columns=['device_id_TimeUsed']).join(device_time_used, on='device_id',how='left')\n",
    "X_test=X_test.drop(columns=['device_id_TimeUsed']).join(device_time_used, on='device_id',how='left')\n",
    "\n",
    "# among the test data, there should be a lot of device that have not appeared in X_train, fill them with \n",
    "sum(X_test['device_id_TimeUsed'].isnull())\n",
    "X_test['device_id_TimeUsed_before']=X_test['device_id_TimeUsed'].fillna(0)"
   ]
  },
  {
   "cell_type": "code",
   "execution_count": 50,
   "metadata": {
    "collapsed": false
   },
   "outputs": [
    {
     "data": {
      "text/plain": [
       "0.000     68696\n",
       "1.000      2753\n",
       "5.000       809\n",
       "6.000       712\n",
       "4.000       577\n",
       "7.000       531\n",
       "8.000       373\n",
       "3.000       368\n",
       "2.000       327\n",
       "9.000       209\n",
       "10.000      107\n",
       "11.000       50\n",
       "13.000       24\n",
       "12.000       15\n",
       "15.000        5\n",
       "Name: device_id_TimeUsed_before, dtype: int64"
      ]
     },
     "execution_count": 50,
     "metadata": {},
     "output_type": "execute_result"
    }
   ],
   "source": [
    "X_test['device_id_TimeUsed_before'].value_counts()"
   ]
  },
  {
   "cell_type": "code",
   "execution_count": null,
   "metadata": {
    "collapsed": true
   },
   "outputs": [],
   "source": [
    "# in the training data, # of device used include the transaction itself. \n",
    "# To make it comparable to the concept used in the test data, use 'device_id_TimeUsed_before' \n",
    "X_train['device_id_TimeUsed_before']=X_train['device_id_TimeUsed']-1\n",
    "\n",
    "X_train['device_id_TimeUsed_before'].value_counts()"
   ]
  },
  {
   "cell_type": "code",
   "execution_count": 65,
   "metadata": {
    "collapsed": false
   },
   "outputs": [],
   "source": [
    "X_train.drop(columns=['device_id_TimeUsed'],inplace=True)\n",
    "X_test.drop(columns=['device_id_TimeUsed'],inplace=True)"
   ]
  },
  {
   "cell_type": "code",
   "execution_count": 63,
   "metadata": {
    "collapsed": true
   },
   "outputs": [],
   "source": [
    "X_train['device_used_before']=X_train['device_id_TimeUsed_before']>0\n",
    "X_test['device_used_before']=X_test['device_id_TimeUsed_before']>0"
   ]
  },
  {
   "cell_type": "code",
   "execution_count": 64,
   "metadata": {
    "collapsed": false
   },
   "outputs": [
    {
     "name": "stdout",
     "output_type": "stream",
     "text": [
      "(75556, 71) (75556, 71)\n"
     ]
    }
   ],
   "source": [
    "print(X_train.shape,X_test.shape)"
   ]
  },
  {
   "cell_type": "markdown",
   "metadata": {},
   "source": [
    "<div class=\"alert alert-block alert-info\">\n",
    "<b>Modeling Preprocessing 2  -- Deal with inbalanced sample  :</b><br>\n",
    "Down sampling - the overall target value is not balanced. The target is in a 10% to 90% distribution. Here downsample the larger group with the same # as the smaller one  <br> \n",
    "</div>"
   ]
  },
  {
   "cell_type": "markdown",
   "metadata": {},
   "source": [
    "* training data balance - down sampling"
   ]
  },
  {
   "cell_type": "code",
   "execution_count": 67,
   "metadata": {
    "collapsed": false
   },
   "outputs": [],
   "source": [
    "indextrain_N=y_train[y_train==1][:7154].index.get_values()\n",
    "indextrain_P=y_train[y_train==0][:7154].index.get_values()\n",
    "\n",
    "ln=list(indextrain_N)\n",
    "ln2=list(indextrain_P)\n",
    "ln.extend(ln2)\n",
    "\n",
    "X_train=X_train.drop(columns=['device_id']).loc[ln]\n",
    "y_train=y_train.loc[ln]"
   ]
  },
  {
   "cell_type": "code",
   "execution_count": 68,
   "metadata": {
    "collapsed": true
   },
   "outputs": [],
   "source": [
    "X_test=X_test.drop(columns=['device_id'])"
   ]
  },
  {
   "cell_type": "code",
   "execution_count": 69,
   "metadata": {
    "collapsed": false
   },
   "outputs": [
    {
     "data": {
      "text/plain": [
       "7154"
      ]
     },
     "execution_count": 69,
     "metadata": {},
     "output_type": "execute_result"
    }
   ],
   "source": [
    "len(indextrain_N)"
   ]
  },
  {
   "cell_type": "code",
   "execution_count": null,
   "metadata": {
    "collapsed": true
   },
   "outputs": [],
   "source": [
    "# keep backup the training and testing data\n",
    "# X_test.to_csv('X_test.csv')\n",
    "# X_train.to_csv('X_train.csv')\n",
    "# y_test.to_csv('y_test.csv')\n",
    "# y_train.to_csv('y_train.csv')"
   ]
  },
  {
   "cell_type": "code",
   "execution_count": 6,
   "metadata": {
    "collapsed": true
   },
   "outputs": [],
   "source": [
    "X_test=pd.read_csv('X_test.csv',index_col=0)\n",
    "X_train=pd.read_csv('X_train.csv',index_col=0)"
   ]
  },
  {
   "cell_type": "code",
   "execution_count": 7,
   "metadata": {
    "collapsed": false
   },
   "outputs": [
    {
     "data": {
      "text/plain": [
       "1    7154\n",
       "0    7154\n",
       "Name: class, dtype: int64"
      ]
     },
     "execution_count": 7,
     "metadata": {},
     "output_type": "execute_result"
    }
   ],
   "source": [
    "y_train=pd.read_csv('y_train.csv',header=None,index_col=0)\n",
    "y_train.columns=['class']\n",
    "y_train.index.name='user_id' #y_train_1.index=['user_id']\n",
    "y_train['class'].value_counts()"
   ]
  },
  {
   "cell_type": "code",
   "execution_count": 8,
   "metadata": {
    "collapsed": false
   },
   "outputs": [
    {
     "data": {
      "text/plain": [
       "0    68559\n",
       "1     6997\n",
       "Name: class, dtype: int64"
      ]
     },
     "execution_count": 8,
     "metadata": {},
     "output_type": "execute_result"
    }
   ],
   "source": [
    "y_test=pd.read_csv('y_test.csv',header=None,index_col=0)\n",
    "y_test.columns=['class']\n",
    "y_test.index.name='user_id' #y_train_1.index=['user_id']\n",
    "y_test['class'].value_counts()"
   ]
  },
  {
   "cell_type": "code",
   "execution_count": 19,
   "metadata": {
    "collapsed": true
   },
   "outputs": [],
   "source": [
    "y_test=y_test['class']\n",
    "y_train=y_train['class']"
   ]
  },
  {
   "cell_type": "markdown",
   "metadata": {},
   "source": [
    "<div class=\"alert alert-block alert-info\">\n",
    "**Modeling Summary** <br><br>\n",
    "<b>1.Select model based on evaluation metric   :</b><br>\n",
    "comparing the 4 models used here:<br> \n",
    " - logistic regression and random forest and ada-boost are with similar ROC-AUC  <br> \n",
    " - logistic regression provided a higher recall for 'Fraud' class  <br> \n",
    " - svm model provide higher precision but does not excel overall  <br> \n",
    " - logistic regression is easy to explain and interprete  <br> \n",
    "evaluation metric:<br> \n",
    " - 'Recall' is a more important metric than 'Precision' as we are more interested in True Positive, but less concerned about False Positive. <br><br>\n",
    " \n",
    "<b>2.Factor Analysis   :</b><br>\n",
    "by analyzing 'value importance' of the variables in logistic regression and rf model, we can see <br> \n",
    " - whether the device is used more than once is mostly associated with fraud, and the more the device was shared by different customer, the more likely fraud happens<br> \n",
    " - similarly, the shorter the customer purchase after they sigh up, the more likely the purchase is a fraud transaction. And an immediate purchase have additional power in predicting fraud. <br> \n",
    " - other factors, including country, age, browser, source, the month of purchase happend, the month sign-up, does not have much predictive power for the fraud transaction <br> \n",
    "</div>"
   ]
  },
  {
   "cell_type": "markdown",
   "metadata": {
    "collapsed": true
   },
   "source": [
    "<div class=\"alert alert-block alert-info\">\n",
    "<b>Model 1: Logistic Regression</b><br>\n",
    "__Modeling__<br>\n",
    "Apply with grid search  <br> \n",
    "__Result__<br>\n",
    "The model can predict 60% of the fraud with good accuracy  <br> \n",
    "__Application__<br>\n",
    "Based on the ROC curve, draw the threshold that apply to practical testing  <br> \n",
    "</div>"
   ]
  },
  {
   "cell_type": "code",
   "execution_count": 16,
   "metadata": {
    "collapsed": true
   },
   "outputs": [
    {
     "name": "stderr",
     "output_type": "stream",
     "text": [
      "C:\\Users\\Yilun\\Anaconda3\\lib\\site-packages\\sklearn\\utils\\validation.py:515: DataConversionWarning: A column-vector y was passed when a 1d array was expected. Please change the shape of y to (n_samples, ), for example using ravel().\n",
      "  y = column_or_1d(y, warn=True)\n",
      "C:\\Users\\Yilun\\Anaconda3\\lib\\site-packages\\sklearn\\utils\\class_weight.py:62: DeprecationWarning: The class_weight='auto' heuristic is deprecated in 0.17 in favor of a new heuristic class_weight='balanced'. 'auto' will be removed in 0.19\n",
      "  \" 0.19\", DeprecationWarning)\n"
     ]
    },
    {
     "name": "stdout",
     "output_type": "stream",
     "text": [
      "             precision    recall  f1-score   support\n",
      "\n",
      "          0       0.96      0.96      0.96     68559\n",
      "          1       0.64      0.62      0.63      6997\n",
      "\n",
      "avg / total       0.93      0.93      0.93     75556\n",
      "\n"
     ]
    }
   ],
   "source": [
    "log=LogisticRegression( class_weight='auto')\n",
    "log.fit(X_train,y_train)\n",
    "pred=log.predict(X_test)\n",
    "print(classification_report(y_test,pred))"
   ]
  },
  {
   "cell_type": "markdown",
   "metadata": {},
   "source": [
    "                 precision    recall  f1-score   support\n",
    "    \n",
    "              0       0.96      0.96      0.96     68559\n",
    "              1       0.64      0.62      0.63      6997\n",
    "    \n",
    "    avg / total       0.93      0.93      0.93     75556"
   ]
  },
  {
   "cell_type": "code",
   "execution_count": 17,
   "metadata": {
    "collapsed": false
   },
   "outputs": [
    {
     "data": {
      "image/png": "[encoded data removed]",
      "text/plain": [
       "<matplotlib.figure.Figure at 0x1c94769a320>"
      ]
     },
     "metadata": {},
     "output_type": "display_data"
    }
   ],
   "source": [
    "# TPR Increased at the beginning 60-70%  and then not effective\n",
    "y_pred = log.predict_proba(X_test)\n",
    "predictions = y_pred[:,1]\n",
    "actual=y_test\n",
    "\n",
    "false_positive_rate, true_positive_rate, thresholds = roc_curve(actual, predictions)\n",
    "roc_auc = auc(false_positive_rate, true_positive_rate)\n",
    "\n",
    "plt.title('Logistic ROC')\n",
    "plt.plot(false_positive_rate, true_positive_rate, 'b',\n",
    "label='AUC = %0.2f'% roc_auc)\n",
    "plt.legend(loc='lower right')\n",
    "plt.plot([0,1],[0,1],'r--')\n",
    "plt.xlim([-0.1,1.2])\n",
    "plt.ylim([-0.1,1.2])\n",
    "plt.ylabel('True Positive Rate')\n",
    "plt.xlabel('False Positive Rate')\n",
    "plt.show()"
   ]
  },
  {
   "cell_type": "markdown",
   "metadata": {
    "collapsed": true
   },
   "source": [
    "*__apply grid search__*"
   ]
  },
  {
   "cell_type": "code",
   "execution_count": 20,
   "metadata": {
    "collapsed": true
   },
   "outputs": [
    {
     "data": {
      "text/plain": [
       "RandomizedSearchCV(cv=5, error_score='raise',\n",
       "          estimator=LogisticRegression(C=1.0, class_weight='balanced', dual=False,\n",
       "          fit_intercept=True, intercept_scaling=1, max_iter=100,\n",
       "          multi_class='ovr', n_jobs=1, penalty='l2', random_state=None,\n",
       "          solver='liblinear', tol=0.0001, verbose=0, warm_start=False),\n",
       "          fit_params={}, iid=True, n_iter=3, n_jobs=1,\n",
       "          param_distributions={'C': [0.01, 0.1, 1, 10]},\n",
       "          pre_dispatch='2*n_jobs', random_state=None, refit=True,\n",
       "          scoring='recall', verbose=0)"
      ]
     },
     "execution_count": 20,
     "metadata": {},
     "output_type": "execute_result"
    }
   ],
   "source": [
    "# cv\n",
    "log=LogisticRegression(class_weight=\"balanced\")\n",
    "params = {'C':[0.01,0.1,1,10]}\n",
    "loggrid = RandomizedSearchCV(estimator=log,param_distributions=params,cv=5,scoring='recall',n_iter=3)\n",
    "loggrid.fit(X_train,y_train)"
   ]
  },
  {
   "cell_type": "code",
   "execution_count": 21,
   "metadata": {
    "collapsed": false
   },
   "outputs": [
    {
     "data": {
      "image/png": "[encoded data removed]",
      "text/plain": [
       "<matplotlib.figure.Figure at 0x1c947690828>"
      ]
     },
     "metadata": {},
     "output_type": "display_data"
    }
   ],
   "source": [
    "y_pred = loggrid.predict_proba(X_test)\n",
    "predictions = y_pred[:,1]\n",
    "\n",
    "false_positive_rate, true_positive_rate, thresholds = roc_curve(actual, predictions)\n",
    "roc_auc = auc(false_positive_rate, true_positive_rate)\n",
    "\n",
    "plt.title('LogCV ROC')\n",
    "plt.plot(false_positive_rate, true_positive_rate, 'b', label='AUC = %0.2f'% roc_auc)\n",
    "plt.legend(loc='lower right')\n",
    "plt.plot([0,1],[0,1],'r--')\n",
    "plt.xlim([-0.1,1.2])\n",
    "plt.ylim([-0.1,1.2])\n",
    "plt.ylabel('True Positive Rate')\n",
    "plt.xlabel('False Positive Rate')\n",
    "plt.show()"
   ]
  },
  {
   "cell_type": "code",
   "execution_count": 24,
   "metadata": {
    "collapsed": true
   },
   "outputs": [],
   "source": [
    "# based on auc curve of the logistic regression model, create the trade off between FPR and TPR, with their corresponding threshold\n",
    "roc=pd.DataFrame([false_positive_rate, true_positive_rate, thresholds],index=['FPR','TPR','TH'])\n",
    "K=roc.T"
   ]
  },
  {
   "cell_type": "code",
   "execution_count": 30,
   "metadata": {
    "collapsed": true
   },
   "outputs": [
    {
     "name": "stdout",
     "output_type": "stream",
     "text": [
      "        FPR    TPR     TH\n",
      "0    0.0000 0.0007 0.9994\n",
      "1000 0.0145 0.5670 0.7202\n",
      "2000 0.1007 0.6484 0.3251\n",
      "3000 0.2589 0.7169 0.2966\n",
      "4000 0.4247 0.7809 0.2805\n",
      "5000 0.5698 0.8371 0.2717\n",
      "6000 0.7237 0.8922 0.2625\n",
      "7000 0.8719 0.9523 0.2508\n"
     ]
    }
   ],
   "source": [
    "pd.options.display.float_format = '{:,.4f}'.format\n",
    "print(K.iloc[::1000,:])"
   ]
  },
  {
   "cell_type": "markdown",
   "metadata": {},
   "source": [
    "*__the True Positive Rate and False Positive Rate trade off, with threshold__* <br>"
   ]
  },
  {
   "cell_type": "markdown",
   "metadata": {},
   "source": [
    "         FPR    TPR     TH\n",
    "         0.0000 0.0007 0.9994\n",
    "         0.0145 0.5670 0.7202\n",
    "         0.1007 0.6484 0.3251\n",
    "         0.2589 0.7169 0.2966\n",
    "         0.4247 0.7809 0.2805\n",
    "         0.5698 0.8371 0.2717\n",
    "         0.7237 0.8922 0.2625\n",
    "         0.8719 0.9523 0.2508"
   ]
  },
  {
   "cell_type": "markdown",
   "metadata": {},
   "source": [
    "<div class=\"alert alert-block alert-success\">\n",
    "<b>__For real time use, we can apply 2 threshold for 2 levels of actions__</b><br><br>\n",
    "__level 1: confident that the case is fraud__ <br>\n",
    "         -- select threshold yield low FPR, in this case, predict_probability>0.72, which correspond to a FPR=1%, very small. <br>\n",
    "         __action :__ the purchase could be tagged as fraud and the merchant can decline the transaction immediately. <br><br>\n",
    "__level 2: find the instance suspicious and need futher scrutiny.__ <br>\n",
    "         -- Cost-Benefit analysis Assumption: <br>\n",
    "         one false positive case cost 4 dollars (the potential profit of one transaction, 10% of the average transaction amount) <br> \n",
    "         and one false negative case cost 40 dollars (The average purchase_price) <br>\n",
    "         -- the balance point is calculatedby (1-TPR)*10=FPR, which is predict_probability~=0.25  <br>\n",
    "         __action :__ company could have additional staff to look into the transaction for further information depending on the business. <br>\n",
    "</div>"
   ]
  },
  {
   "cell_type": "markdown",
   "metadata": {},
   "source": [
    "<div class=\"alert alert-block alert-info\">\n",
    "<b>Model 2: Random Forest </b><br>\n",
    "__Modeling__<br>\n",
    "Apply with grid search for hyper parameter tuning  <br> \n",
    "Apply ADA Boost to enhance the model  <br> \n",
    "__Result__<br>\n",
    "The evaluation metrics does not improve much compared to logistic regression  <br> \n",
    "__Application__<br>\n",
    "Analyse what feature is important in the prediction  <br> \n",
    "</div>"
   ]
  },
  {
   "cell_type": "code",
   "execution_count": 130,
   "metadata": {
    "collapsed": false
   },
   "outputs": [
    {
     "name": "stdout",
     "output_type": "stream",
     "text": [
      "             precision    recall  f1-score   support\n",
      "\n",
      "          0       0.96      0.96      0.96     68559\n",
      "          1       0.63      0.62      0.63      6997\n",
      "\n",
      "avg / total       0.93      0.93      0.93     75556\n",
      "\n"
     ]
    }
   ],
   "source": [
    "\n",
    "params = {'max_depth': [3,5,7,9,11,15], 'min_samples_leaf':[2, 4, 8,12,16]}\n",
    "rfgrid = RandomizedSearchCV(estimator=rf,param_distributions=params,cv=3,scoring='recall',n_iter=3)\n",
    "rfgrid.fit(X_train,y_train)\n",
    "pred=rfgrid.predict(X_test)\n",
    "print(classification_report(y_test,pred))"
   ]
  },
  {
   "cell_type": "code",
   "execution_count": 131,
   "metadata": {
    "collapsed": false
   },
   "outputs": [
    {
     "data": {
      "text/plain": [
       "RandomForestClassifier(bootstrap=True, class_weight=None, criterion='gini',\n",
       "            max_depth=11, max_features='auto', max_leaf_nodes=None,\n",
       "            min_samples_leaf=12, min_samples_split=2,\n",
       "            min_weight_fraction_leaf=0.0, n_estimators=10, n_jobs=1,\n",
       "            oob_score=False, random_state=None, verbose=0,\n",
       "            warm_start=False)"
      ]
     },
     "execution_count": 131,
     "metadata": {},
     "output_type": "execute_result"
    }
   ],
   "source": [
    "rfgrid.best_estimator_"
   ]
  },
  {
   "cell_type": "code",
   "execution_count": 132,
   "metadata": {
    "collapsed": false
   },
   "outputs": [
    {
     "data": {
      "image/png": "[encoded data removed]",
      "text/plain": [
       "<matplotlib.figure.Figure at 0x29730b2df60>"
      ]
     },
     "metadata": {},
     "output_type": "display_data"
    }
   ],
   "source": [
    "y_pred = rfgrid.predict_proba(X_test)\n",
    "predictions = y_pred[:,1]\n",
    "\n",
    "false_positive_rate, true_positive_rate, thresholds = roc_curve(y_test, predictions)\n",
    "roc_auc = auc(false_positive_rate, true_positive_rate)\n",
    "\n",
    "plt.title('RamdomForest Grid Search ROC')\n",
    "plt.plot(false_positive_rate, true_positive_rate, 'b',\n",
    "label='AUC = %0.2f'% roc_auc)\n",
    "plt.legend(loc='lower right')\n",
    "plt.plot([0,1],[0,1],'r--')\n",
    "plt.xlim([-0.1,1.2])\n",
    "plt.ylim([-0.1,1.2])\n",
    "plt.ylabel('True Positive Rate')\n",
    "plt.xlabel('False Positive Rate')\n",
    "plt.show()"
   ]
  },
  {
   "cell_type": "code",
   "execution_count": 133,
   "metadata": {
    "collapsed": false
   },
   "outputs": [],
   "source": [
    "#rfgrid.best_estimator_\n",
    "\n",
    "importances = rfgrid.best_estimator_.feature_importances_\n",
    "\n",
    "std=np.std(X_train, 0)\n",
    "\n",
    "#rfgrid.best_estimator_.feature_importances_"
   ]
  },
  {
   "cell_type": "code",
   "execution_count": 138,
   "metadata": {
    "collapsed": false
   },
   "outputs": [],
   "source": [
    "RF_Var_Importance=round(pd.DataFrame(np.stack((rfgrid.best_estimator_.feature_importances_,std)).T,\n",
    "                                    index=X_train.columns.get_values(),columns=['Imp','Std']),2).sort_values('Imp',ascending=False).head(7)\n",
    "\n",
    "RF_Var_Importance.to_csv('RF_Var_Importance.csv')"
   ]
  },
  {
   "cell_type": "code",
   "execution_count": null,
   "metadata": {
    "collapsed": true
   },
   "outputs": [],
   "source": [
    "print(RF_Var_Importance)"
   ]
  },
  {
   "cell_type": "markdown",
   "metadata": {},
   "source": [
    "<div class=\"alert alert-block alert-info\">\n",
    "<b>__Random Forest Model showing the following features are highly correlated with fraud purchase__</b> <br>\n",
    "- 1a if the device been used<br> \n",
    "- 1b the more times a device is used <br>\n",
    "- 2a if the customer purchase immediately after they sigh up <br>\n",
    "- 2b also the shorter a customer made their first purchase after they signup <br>\n",
    "</div>"
   ]
  },
  {
   "cell_type": "markdown",
   "metadata": {},
   "source": [
    "                                            Imp    Std\n",
    "                device_id_TimeUsed_before 0.320  2.740\n",
    "                Sign_to_Purch_Same        0.240  0.440\n",
    "                device_used_before        0.160  0.470\n",
    "                Sign_to_Purch_day         0.100 39.960\n",
    "                Purch_Month               0.090  3.150\n",
    "                Purch_Month_Jan           0.050  0.450\n",
    "                purchase_value            0.010 18.420"
   ]
  },
  {
   "cell_type": "markdown",
   "metadata": {},
   "source": [
    "* adaboost"
   ]
  },
  {
   "cell_type": "code",
   "execution_count": 141,
   "metadata": {
    "collapsed": false
   },
   "outputs": [
    {
     "name": "stdout",
     "output_type": "stream",
     "text": [
      "             precision    recall  f1-score   support\n",
      "\n",
      "          0       0.96      0.97      0.96     68559\n",
      "          1       0.64      0.62      0.63      6997\n",
      "\n",
      "avg / total       0.93      0.93      0.93     75556\n",
      "\n"
     ]
    }
   ],
   "source": [
    "ada=AdaBoostClassifier(base_estimator=rfgrid.best_estimator_,n_estimators=4)\n",
    "ada.fit(X_train,y_train)\n",
    "pred=ada.predict(X_test)\n",
    "print(classification_report(y_test,pred))"
   ]
  },
  {
   "cell_type": "code",
   "execution_count": 142,
   "metadata": {
    "collapsed": false
   },
   "outputs": [
    {
     "data": {
      "text/plain": [
       "RandomizedSearchCV(cv=5, error_score='raise',\n",
       "          estimator=RandomForestClassifier(bootstrap=True, class_weight=None, criterion='gini',\n",
       "            max_depth=4, max_features='auto', max_leaf_nodes=None,\n",
       "            min_samples_leaf=1, min_samples_split=2,\n",
       "            min_weight_fraction_leaf=0.0, n_estimators=10, n_jobs=1,\n",
       "            oob_score=False, random_state=None, verbose=0,\n",
       "            warm_start=False),\n",
       "          fit_params={}, iid=True, n_iter=3, n_jobs=1,\n",
       "          param_distributions={'min_samples_leaf': [8, 20], 'max_depth': [2, 4, 6, 8, 16]},\n",
       "          pre_dispatch='2*n_jobs', random_state=None, refit=True,\n",
       "          scoring='f1', verbose=0)"
      ]
     },
     "execution_count": 142,
     "metadata": {},
     "output_type": "execute_result"
    }
   ],
   "source": [
    "params = {'max_depth': [2,4,6,8, 16], 'min_samples_leaf':[ 8,20]}\n",
    "\n",
    "adagrid = RandomizedSearchCV(estimator=rf,param_distributions=params,cv=5,scoring='f1',n_iter=3)\n",
    "adagrid.fit(X_train,y_train)"
   ]
  },
  {
   "cell_type": "code",
   "execution_count": 144,
   "metadata": {
    "collapsed": false
   },
   "outputs": [
    {
     "data": {
      "image/png": "[encoded data removed]",
      "text/plain": [
       "<matplotlib.figure.Figure at 0x297341e9c18>"
      ]
     },
     "metadata": {},
     "output_type": "display_data"
    }
   ],
   "source": [
    "actual=y_test\n",
    "y_pred = adagrid.predict_proba(X_test)\n",
    "predictions = y_pred[:,1]\n",
    "\n",
    "false_positive_rate, true_positive_rate, thresholds = roc_curve(actual, predictions)\n",
    "roc_auc = auc(false_positive_rate, true_positive_rate)\n",
    "\n",
    "plt.title('ADA ROC')\n",
    "plt.plot(false_positive_rate, true_positive_rate, 'b',\n",
    "label='AUC = %0.2f'% roc_auc)\n",
    "plt.legend(loc='lower right')\n",
    "plt.plot([0,1],[0,1],'r--')\n",
    "plt.xlim([-0.1,1.2])\n",
    "plt.ylim([-0.1,1.2])\n",
    "plt.ylabel('True Positive Rate')\n",
    "plt.xlabel('False Positive Rate')\n",
    "plt.show()"
   ]
  },
  {
   "cell_type": "code",
   "execution_count": 146,
   "metadata": {
    "collapsed": false
   },
   "outputs": [
    {
     "data": {
      "text/html": [
       "<div>\n",
       "<style scoped>\n",
       "    .dataframe tbody tr th:only-of-type {\n",
       "        vertical-align: middle;\n",
       "    }\n",
       "\n",
       "    .dataframe tbody tr th {\n",
       "        vertical-align: top;\n",
       "    }\n",
       "\n",
       "    .dataframe thead th {\n",
       "        text-align: right;\n",
       "    }\n",
       "</style>\n",
       "<table border=\"1\" class=\"dataframe\">\n",
       "  <thead>\n",
       "    <tr style=\"text-align: right;\">\n",
       "      <th></th>\n",
       "      <th>Imp</th>\n",
       "      <th>Var</th>\n",
       "    </tr>\n",
       "  </thead>\n",
       "  <tbody>\n",
       "    <tr>\n",
       "      <th>device_id_TimeUsed_before</th>\n",
       "      <td>0.320</td>\n",
       "      <td>2.740</td>\n",
       "    </tr>\n",
       "    <tr>\n",
       "      <th>Purch_Month_Jan</th>\n",
       "      <td>0.190</td>\n",
       "      <td>0.450</td>\n",
       "    </tr>\n",
       "    <tr>\n",
       "      <th>Sign_to_Purch_Same</th>\n",
       "      <td>0.180</td>\n",
       "      <td>0.440</td>\n",
       "    </tr>\n",
       "    <tr>\n",
       "      <th>Sign_to_Purch_day</th>\n",
       "      <td>0.120</td>\n",
       "      <td>39.960</td>\n",
       "    </tr>\n",
       "    <tr>\n",
       "      <th>signup_Month_Jan</th>\n",
       "      <td>0.070</td>\n",
       "      <td>0.480</td>\n",
       "    </tr>\n",
       "  </tbody>\n",
       "</table>\n",
       "</div>"
      ],
      "text/plain": [
       "                            Imp    Var\n",
       "device_id_TimeUsed_before 0.320  2.740\n",
       "Purch_Month_Jan           0.190  0.450\n",
       "Sign_to_Purch_Same        0.180  0.440\n",
       "Sign_to_Purch_day         0.120 39.960\n",
       "signup_Month_Jan          0.070  0.480"
      ]
     },
     "execution_count": 146,
     "metadata": {},
     "output_type": "execute_result"
    }
   ],
   "source": [
    "round(pd.DataFrame(np.stack((adagrid.best_estimator_.feature_importances_,std)).T,\n",
    "                                    index=X_train.columns.get_values(),columns=['Imp','Var']),2).sort_values('Imp',ascending=False).head(5)"
   ]
  },
  {
   "cell_type": "code",
   "execution_count": 1,
   "metadata": {
    "collapsed": true
   },
   "outputs": [],
   "source": [
    "# use SVM for high-dimentional classification"
   ]
  },
  {
   "cell_type": "markdown",
   "metadata": {},
   "source": [
    "<div class=\"alert alert-block alert-info\">\n",
    "<b>Model 3: Supporting Vector Machine </b><br>\n",
    "__Modeling__<br>\n",
    "Used 2 kernels and rbf kernel achieved a better result   <br> \n",
    "Hyper parameter tuning by finding the best Gamma, which control the level of non-liarity of the hyperplane.  <br> \n",
    "__Result__<br>\n",
    "The evaluation metrics does not improve much compared to logistic regression  <br> \n",
    "</div>"
   ]
  },
  {
   "cell_type": "code",
   "execution_count": 31,
   "metadata": {
    "collapsed": true
   },
   "outputs": [
    {
     "name": "stdout",
     "output_type": "stream",
     "text": [
      "             precision    recall  f1-score   support\n",
      "\n",
      "          0       0.95      0.99      0.97     68559\n",
      "          1       0.79      0.54      0.64      6997\n",
      "\n",
      "avg / total       0.94      0.94      0.94     75556\n",
      "\n"
     ]
    }
   ],
   "source": [
    "kernels = kernels = ['linear','rbf','poly']\n",
    "\n",
    "for kernel in kernels:\n",
    "    svc = svm.SVC(kernel=kernel).fit(X_train, y_train)\n",
    "    pred=svc.predict(X_test)\n",
    "    print(classification_report(y_test,pred))"
   ]
  },
  {
   "cell_type": "markdown",
   "metadata": {
    "collapsed": true
   },
   "source": [
    "         1. Linear Kernel\n",
    "             precision    recall  f1-score   support\n",
    "\n",
    "          0       0.96      0.96      0.96     68559\n",
    "          1       0.64      0.62      0.63      6997\n",
    "\n",
    "          avg / total       0.93      0.93      0.93     75556\n",
    "         \n",
    "         2. RBF Kernel   \n",
    "             precision    recall  f1-score   support\n",
    "\n",
    "          0       0.95      0.99      0.97     68559\n",
    "          1       0.79      0.54      0.64      6997\n",
    "\n",
    "          avg / total       0.94      0.94      0.94     75556\n",
    "         \n",
    "         RBF Kernel yields higher f1-score "
   ]
  },
  {
   "cell_type": "code",
   "execution_count": 45,
   "metadata": {
    "collapsed": false
   },
   "outputs": [],
   "source": [
    "gammas=[0.01,0.1,1,10,100]\n",
    "kernels = ['rbf']\n",
    "\n",
    "for tune_gamma in gammas:\n",
    "    svc = svm.SVC(gamma=tune_gamma,kernel = 'rbf').fit(X_train, y_train)\n",
    "    pred=svc.predict(X_test)\n",
    "    print('svm with rbf kernel and gamma={}'.format(tune_gamma))\n",
    "    print(classification_report(y_test,pred))"
   ]
  },
  {
   "cell_type": "markdown",
   "metadata": {},
   "source": [
    "        svm with rbf kernel and gamma=0.01\n",
    "                     precision    recall  f1-score   support\n",
    "        \n",
    "                  0       0.95      0.99      0.97     68559\n",
    "                  1       0.88      0.54      0.67      6997\n",
    "        \n",
    "        avg / total       0.95      0.95      0.94     75556\n",
    "        \n",
    "        svm with rbf kernel and gamma=0.1\n",
    "                     precision    recall  f1-score   support\n",
    "        \n",
    "                  0       0.95      0.96      0.96     68559\n",
    "                  1       0.60      0.55      0.57      6997\n",
    "        \n",
    "        avg / total       0.92      0.92      0.92     75556\n",
    "        \n",
    "        svm with rbf kernel and gamma=1\n",
    "                     precision    recall  f1-score   support\n",
    "        \n",
    "                  0       0.95      1.00      0.98     68559\n",
    "                  1       1.00      0.51      0.68      6997\n",
    "        \n",
    "        avg / total       0.96      0.95      0.95     75556\n",
    "        \n",
    "        svm with rbf kernel and gamma=10\n",
    "                     precision    recall  f1-score   support\n",
    "        \n",
    "                  0       0.91      1.00      0.95     68559\n",
    "                  1       0.00      0.00      0.00      6997\n",
    "        \n",
    "        avg / total       0.82      0.91      0.86     75556\n",
    "        \n",
    "      \n",
    "        svm with rbf kernel and gamma=100\n",
    "                     precision    recall  f1-score   support\n",
    "        \n",
    "                  0       0.91      1.00      0.95     68559\n",
    "                  1       0.00      0.00      0.00      6997\n",
    "        \n",
    "        avg / total       0.82      0.91      0.86     75556"
   ]
  },
  {
   "cell_type": "markdown",
   "metadata": {},
   "source": [
    "<div class=\"alert alert-block alert-info\">\n",
    "<b>Thank you for your time. Hope this analysis provided insights and will help prevent loss in real practice  </b><br>\n",
    "</div>"
   ]
  },
  {
   "cell_type": "markdown",
   "metadata": {},
   "source": [
    "<div class=\"alert alert-block alert-info\">\n",
    "*Yilun Guo - Modeling Demo - Fraud Analytics*  <br>\n",
    "</div>"
   ]
  },
  {
   "cell_type": "code",
   "execution_count": null,
   "metadata": {
    "collapsed": true
   },
   "outputs": [],
   "source": []
  }
 ],
 "metadata": {
  "anaconda-cloud": {},
  "kernelspec": {
   "display_name": "Python [conda root]",
   "language": "python",
   "name": "conda-root-py"
  },
  "language_info": {
   "codemirror_mode": {
    "name": "ipython",
    "version": 3
   },
   "file_extension": ".py",
   "mimetype": "text/x-python",
   "name": "python",
   "nbconvert_exporter": "python",
   "pygments_lexer": "ipython3",
   "version": "3.5.2"
  }
 },
 "nbformat": 4,
 "nbformat_minor": 1
}
